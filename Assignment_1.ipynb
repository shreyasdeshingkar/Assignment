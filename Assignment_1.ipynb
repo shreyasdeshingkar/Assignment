{
 "cells": [
  {
   "cell_type": "markdown",
   "id": "07b5b266-0d15-4cf8-ad2b-ff5ce42cced4",
   "metadata": {},
   "source": [
    "Que 1 (ans) =>  Guido van Rossum"
   ]
  },
  {
   "cell_type": "markdown",
   "id": "59aecb9c-0c45-494d-b4a2-ca4c10ff549c",
   "metadata": {},
   "source": [
    "Que 2 (ans) => Object-oriented programming and structured programming"
   ]
  },
  {
   "cell_type": "markdown",
   "id": "b6729f81-53c4-46fd-a61f-7e2f358a1e4d",
   "metadata": {},
   "source": [
    "Que 3 (ans)=> Yes, Python is a case-sensitive language"
   ]
  },
  {
   "cell_type": "markdown",
   "id": "2bdbed30-751e-4c77-82da-7d5e405a697e",
   "metadata": {},
   "source": [
    "Que 4 (ans)=> .py is the correct extention for python file"
   ]
  },
  {
   "cell_type": "markdown",
   "id": "570f092c-f16c-4dbc-b4db-d4229443fa6f",
   "metadata": {},
   "source": [
    "Que 5 (ans)=> Python is an interpreted programming language"
   ]
  },
  {
   "cell_type": "markdown",
   "id": "34f5e4f2-ac3d-43bf-aecb-ebbd61dde52a",
   "metadata": {},
   "source": [
    "Que 6 (ans)=> Indentation is used to define a block of code in python"
   ]
  },
  {
   "cell_type": "markdown",
   "id": "9324e9fa-c1c5-4846-b1ff-a5b39273fbb6",
   "metadata": {},
   "source": [
    "Que 7 (ans)=> # is used to give single line comment in python"
   ]
  },
  {
   "cell_type": "markdown",
   "id": "e3158fa7-0446-4abd-bd60-1e2ac6fe3af3",
   "metadata": {},
   "source": [
    "Que 8 (ans)=> sys. version "
   ]
  },
  {
   "cell_type": "markdown",
   "id": "64c35148-07b2-4c6c-88fb-61570b0aea88",
   "metadata": {},
   "source": [
    "Que 9 (ans)=>It uses a construct called \"lambda\""
   ]
  },
  {
   "cell_type": "markdown",
   "id": "59f73ed3-79be-477c-a46d-5958a95ca23f",
   "metadata": {},
   "source": [
    "Que 10 (ans)=> pip stands for \"preferred installer program\""
   ]
  },
  {
   "cell_type": "markdown",
   "id": "0035dbb4-d45a-4d05-b5c4-b4702a545f57",
   "metadata": {},
   "source": [
    "Que 11 (ans)=>print( ) function.\n",
    "type( ) function.\n",
    "input( ) function.\n",
    "abs( ) function.\n",
    "pow( ) function.\n",
    "dir( ) function.\n",
    "sorted( ) function.\n",
    "max( ) function."
   ]
  },
  {
   "cell_type": "markdown",
   "id": "ea55543f-5087-4486-bdeb-4c0953002f48",
   "metadata": {},
   "source": [
    "Que 12 (ans)=>79 characters"
   ]
  },
  {
   "cell_type": "markdown",
   "id": "28362343-1c49-4deb-88e5-b885c1560b0f",
   "metadata": {},
   "source": [
    "Que 13 (ans)=>Data science.\n",
    "Scientific and mathematical computing.\n",
    "Web development.\n",
    "Finance and trading.\n",
    "System automation and administration.\n",
    "Computer graphics.\n",
    "Basic game development.\n",
    "Security and penetration testing."
   ]
  },
  {
   "cell_type": "markdown",
   "id": "9591eec6-8ba1-43c8-9810-a32f9901c22d",
   "metadata": {},
   "source": [
    "Que 14 (ans)=>Memory management in Python involves a private heap containing all Python objects and data structures. The management of this private heap is ensured internally by the Python memory manager"
   ]
  },
  {
   "cell_type": "markdown",
   "id": "d9a8d38b-23c0-48e2-82f9-079b935430f9",
   "metadata": {},
   "source": [
    "Que 15 (ans)=>Right-clicking This PC and going to Properties.\n",
    "\n",
    "Clicking on the Advanced system settings in the menu on the left.\n",
    "\n",
    "Clicking on the Environment Variables button o​n the bottom right.\n",
    "\n",
    "In the System variables section, selecting the Path variable and clicking on Edit. The next screen will show all the directories that are currently a part of the PATH variable.\n",
    "\n",
    "Clicking on New and entering Python’s install directory."
   ]
  },
  {
   "cell_type": "markdown",
   "id": "4c1df966-35ed-460d-ae39-e97f46f9e489",
   "metadata": {},
   "source": [
    "Que 16 (ans)=> Yes "
   ]
  },
  {
   "cell_type": "code",
   "execution_count": null,
   "id": "ade6db84-1ee3-403b-ab59-d3dc156147c8",
   "metadata": {},
   "outputs": [],
   "source": []
  }
 ],
 "metadata": {
  "kernelspec": {
   "display_name": "Python 3 (ipykernel)",
   "language": "python",
   "name": "python3"
  },
  "language_info": {
   "codemirror_mode": {
    "name": "ipython",
    "version": 3
   },
   "file_extension": ".py",
   "mimetype": "text/x-python",
   "name": "python",
   "nbconvert_exporter": "python",
   "pygments_lexer": "ipython3",
   "version": "3.10.8"
  }
 },
 "nbformat": 4,
 "nbformat_minor": 5
}
